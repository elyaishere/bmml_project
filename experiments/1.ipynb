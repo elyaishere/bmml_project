{
 "cells": [
  {
   "cell_type": "code",
   "execution_count": null,
   "metadata": {},
   "outputs": [],
   "source": [
    "import torch\n",
    "\n",
    "from code.data.cifar import Cifar10, Cifar100\n",
    "from code.model.resnet import Resnet\n",
    "from code.sam import SAM\n",
    "from code.train import train\n",
    "\n",
    "\n",
    "device = torch.device(\"cuda:0\" if torch.cuda.is_available() else \"cpu\")\n",
    "\n",
    "num_epochs = 100\n",
    "batch_size = 128\n",
    "threads = 2\n",
    "lr=1.0\n",
    "momentum=0.9\n",
    "nesterov=True\n",
    "weight_decay=1e-4\n",
    "rho=0.05\n",
    "label_smoothing = 0.1\n",
    "\n",
    "use_autoaugment, use_cutout = True, True\n",
    "dataset = Cifar10(batch_size, use_autoaugment, use_cutout)\n",
    "num_classes = dataset.num_classes\n",
    "model = Resnet('resnet50', num_classes).to(device)\n",
    "base_optimizer = torch.optim.SGD\n",
    "\n",
    "optimizer = SAM(model.parameters(), base_optimizer, rho=rho, lr=lr, momentum=momentum, weight_decay=weight_decay, nesterov=nesterov)\n",
    "scheduler = torch.optim.lr_scheduler.CosineAnnealingLR(optimizer.base_optimizer, T_max=num_epochs)\n",
    "\n",
    "train(optimizer, scheduler, model, dataset, num_epochs, label_smoothing=label_smoothing, device=device)"
   ]
  },
  {
   "cell_type": "code",
   "execution_count": null,
   "metadata": {},
   "outputs": [],
   "source": []
  }
 ],
 "metadata": {
  "kernelspec": {
   "display_name": "Python 3",
   "language": "python",
   "name": "python3"
  },
  "language_info": {
   "name": "python",
   "version": "3.10.8 (main, Oct 13 2022, 10:17:43) [Clang 14.0.0 (clang-1400.0.29.102)]"
  },
  "orig_nbformat": 4,
  "vscode": {
   "interpreter": {
    "hash": "7e1998ff7f8aa20ada591c520b972326324e5ea05489af9e422744c7c09f6dad"
   }
  }
 },
 "nbformat": 4,
 "nbformat_minor": 2
}
